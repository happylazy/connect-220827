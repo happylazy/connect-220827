{
  "cells": [
    {
      "cell_type": "markdown",
      "metadata": {
        "id": "view-in-github",
        "colab_type": "text"
      },
      "source": [
        "<a href=\"https://colab.research.google.com/github/happylazy/connect-220827/blob/main/scratchpad.ipynb\" target=\"_parent\"><img src=\"https://colab.research.google.com/assets/colab-badge.svg\" alt=\"Open In Colab\"/></a>"
      ]
    },
    {
      "cell_type": "code",
      "execution_count": 43,
      "metadata": {
        "colab": {
          "base_uri": "https://localhost:8080/"
        },
        "id": "lIYdn1woOS1n",
        "outputId": "231d5d2b-6d66-4f76-f572-ca0f8a02eaa6"
      },
      "outputs": [
        {
          "output_type": "stream",
          "name": "stdout",
          "text": [
            "5\n",
            "    *\n",
            "   **\n",
            "  ***\n",
            " ****\n",
            "*****\n"
          ]
        }
      ],
      "source": [
        "n = int(input())\n",
        "for i in(range(n)):\n",
        "    print(f\"{' '*(n-i-1)}{'*'*(i+1)}\")\n",
        "        #    {'*'*(i+1)}')\n",
        "    # print(f'*'*(i+1))\n",
        "        #    ')\n",
        "    # '*'*(i+1))\n",
        "\n",
        "\n",
        "\n",
        "\n"
      ]
    },
    {
      "cell_type": "code",
      "source": [],
      "metadata": {
        "id": "dl05QhvtSNKL"
      },
      "execution_count": null,
      "outputs": []
    },
    {
      "cell_type": "code",
      "source": [
        "import random\n",
        "n,x = (input().split())\n",
        "\n",
        "rdn =[]\n",
        "for i in(range(int(n))):\n",
        "    r = random.randint(1,10000)\n",
        "    rdn.append(r)\n",
        "\n",
        "while True:\n",
        "    if min(rdn) >= int(x):\n",
        "        rdn=[]\n",
        "        for i in(range(int(n))):\n",
        "            r = random.randint(1,10000)\n",
        "            rdn.append(r)\n",
        "            \n",
        "    else:\n",
        "        print (rdn)\n",
        "        break\n",
        "\n",
        "ans = \"\"\n",
        "for i in(range(int(n))):\n",
        "    if rdn[i] < int(x):\n",
        "        ans = ans + str(rdn[i])\n",
        "print(ans)        "
      ],
      "metadata": {
        "colab": {
          "base_uri": "https://localhost:8080/"
        },
        "id": "Md98wWuwH22w",
        "outputId": "7289bc44-b5ab-4ea5-dc7a-8bd3f7b7fb5a"
      },
      "execution_count": 71,
      "outputs": [
        {
          "output_type": "stream",
          "name": "stdout",
          "text": [
            "10 5\n",
            "[4, 9173, 5697, 1775, 1456, 3120, 903, 573, 5394, 1970]\n",
            "4\n"
          ]
        }
      ]
    },
    {
      "cell_type": "code",
      "source": [
        "n,x = (input().split())\n",
        "nums = (input().split())\n",
        "nums2 =[]\n",
        "for i in(range(int(n))):\n",
        "    if int(nums[i]) < int(x):\n",
        "        nums2.append(int(nums[i]))\n",
        "print(*nums2)"
      ],
      "metadata": {
        "colab": {
          "base_uri": "https://localhost:8080/"
        },
        "id": "jK77hKc4YX8e",
        "outputId": "c7f314a5-d847-419b-a61a-a48a714f3350"
      },
      "execution_count": 90,
      "outputs": [
        {
          "output_type": "stream",
          "name": "stdout",
          "text": [
            "5 3\n",
            "5 4 1 2 3\n",
            "1 2\n"
          ]
        }
      ]
    },
    {
      "cell_type": "code",
      "source": [
        "lst = []\n",
        "while True:\n",
        "    inpt = input().split()\n",
        "    hap = int(inpt[0]) + int(inpt[1])\n",
        "    lst.append(hap)\n",
        "    \n",
        "    if int(inpt[0]) == 0 and int(inpt[1]) == 0:\n",
        "        for i in range(len(lst)):\n",
        "            print (lst[i])\n",
        "        break"
      ],
      "metadata": {
        "colab": {
          "base_uri": "https://localhost:8080/"
        },
        "id": "N8UmNpWOm9DT",
        "outputId": "94cdd151-e4af-4dee-987c-2b2682e09672"
      },
      "execution_count": 104,
      "outputs": [
        {
          "output_type": "stream",
          "name": "stdout",
          "text": [
            "5 8\n",
            "5 3\n",
            "9 1\n",
            "0 0\n",
            "13\n",
            "8\n",
            "10\n"
          ]
        }
      ]
    },
    {
      "cell_type": "code",
      "source": [
        "while True:\n",
        "    try:\n",
        "        a, b = map(int,input().split())\n",
        "        print(a+b)\n",
        "    except:\n",
        "        break"
      ],
      "metadata": {
        "colab": {
          "base_uri": "https://localhost:8080/"
        },
        "id": "Ln2dAKIVtMl3",
        "outputId": "317dda0a-d6c7-445d-aff6-856387c02caa"
      },
      "execution_count": 1,
      "outputs": [
        {
          "name": "stdout",
          "output_type": "stream",
          "text": [
            "1 2\n",
            "3\n",
            " \n"
          ]
        }
      ]
    },
    {
      "cell_type": "code",
      "source": [
        "n = input()\n",
        "r = 1\n",
        "nn = n\n",
        "while True:\n",
        "    \n",
        "    if int(nn) < 10:\n",
        "        n0 = 0              #십의 자리수\n",
        "    else:   \n",
        "        n0 = int(nn)//10    #십의 자리수\n",
        "\n",
        "    n1 = int(nn)%10     #일의 자리수\n",
        "\n",
        "    n01 = n0 + n1       #십의 자리수와 일의 자리수의 숫자를 더한 값\n",
        "\n",
        "    nn = str(n1) + str(n01%10)      #새로운 숫자를 문자열로 표현함\n",
        "    #print (nn)\n",
        "    if n1 == 0:\n",
        "        nn = str(n01%10)\n",
        "\n",
        "    if n == nn:\n",
        "        print (r,\"!\")\n",
        "        break\n",
        "    else:\n",
        "    #    print (r)\n",
        "        r = r + 1\n"
      ],
      "metadata": {
        "colab": {
          "base_uri": "https://localhost:8080/"
        },
        "id": "EswUbnvT4y0_",
        "outputId": "ba36dab7-7de1-46ba-ae00-50238901283a"
      },
      "execution_count": 24,
      "outputs": [
        {
          "output_type": "stream",
          "name": "stdout",
          "text": [
            "0\n",
            "1 !\n"
          ]
        }
      ]
    }
  ],
  "metadata": {
    "colab": {
      "name": "scratchpad",
      "provenance": [],
      "include_colab_link": true
    },
    "kernelspec": {
      "display_name": "Python 3",
      "name": "python3"
    }
  },
  "nbformat": 4,
  "nbformat_minor": 0
}